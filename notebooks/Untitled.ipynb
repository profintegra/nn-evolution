{
 "cells": [
  {
   "cell_type": "code",
   "execution_count": 113,
   "metadata": {
    "collapsed": true
   },
   "outputs": [],
   "source": [
    "import numpy as np\n",
    "import scipy"
   ]
  },
  {
   "cell_type": "code",
   "execution_count": 214,
   "metadata": {
    "collapsed": false
   },
   "outputs": [],
   "source": [
    "class Evolution():\n",
    "    def __init__(self, genes, pop_size, fitness_func, lr=0.1, generations=100, base_indv=None):\n",
    "        self.genes = genes\n",
    "        self.pop_size = pop_size\n",
    "        self.calc_fitness = fitness_func\n",
    "        self.generations = generations\n",
    "        self.lr = lr\n",
    "        self.base_indv = base_indv\n",
    "\n",
    "        self.population = None\n",
    "        self.max_fitness = -1\n",
    "        self.best_indv = None\n",
    "        \n",
    "    def init_population(self):\n",
    "        if self.base_indv is None:\n",
    "            self.population = np.random.rand(self.pop_size, self.genes)\n",
    "        else:\n",
    "            if self.genes != len(self.base_indv):\n",
    "                print(\"Warning: Overwriting # genes with # genes of based individual.\")\n",
    "            self.population = np.array([self.base_indv] * self.pop_size)\n",
    "    \n",
    "    def evolve(self):\n",
    "        for gen in range(self.generations):\n",
    "            # mutating population\n",
    "            mutations = np.random.uniform(low=-1, high=1, size=(self.pop_size, self.genes)) * self.lr\n",
    "            mutated_population = self.population + mutations\n",
    "            \n",
    "            # calculating fitness scores for resulting individuals, saving best\n",
    "            fitness_scores = [self.calc_fitness(indv) for indv in mutated_population]\n",
    "            self.update_best(fitness_scores, mutated_population)\n",
    "            \n",
    "            # sampling from mutation population based on fitness\n",
    "            fitness_score_prob = fitness_scores / sum(fitness_scores)\n",
    "            new_population_idx = np.random.choice(len(mutated_population), p=fitness_score_prob, size=self.pop_size)\n",
    "            self.population = mutated_population[new_population_idx]\n",
    "    \n",
    "    def update_best(self, fitness_scores, mutated_population):\n",
    "        max_idx = fitness_scores.index(max(fitness_scores))\n",
    "        if fitness_scores[max_idx] > self.max_fitness:\n",
    "            self.best_indv = mutated_population[max_idx]\n",
    "            self.max_fitness = fitness_scores[max_idx]\n",
    "    "
   ]
  },
  {
   "cell_type": "code",
   "execution_count": 215,
   "metadata": {
    "collapsed": false
   },
   "outputs": [],
   "source": [
    "def fitness(indv):\n",
    "    return 1/((8-sum(indv))**2)"
   ]
  },
  {
   "cell_type": "code",
   "execution_count": 222,
   "metadata": {
    "collapsed": false
   },
   "outputs": [],
   "source": [
    "e = Evolution(genes=10, pop_size=20, lr=0.01, fitness_func=fitness, generations=2000, base_indv=ind)"
   ]
  },
  {
   "cell_type": "code",
   "execution_count": 223,
   "metadata": {
    "collapsed": false
   },
   "outputs": [],
   "source": [
    "e.init_population()"
   ]
  },
  {
   "cell_type": "code",
   "execution_count": 224,
   "metadata": {
    "collapsed": false
   },
   "outputs": [],
   "source": [
    "e.evolve()"
   ]
  },
  {
   "cell_type": "code",
   "execution_count": 225,
   "metadata": {
    "collapsed": false
   },
   "outputs": [],
   "source": [
    "ind = e.best_indv"
   ]
  },
  {
   "cell_type": "code",
   "execution_count": 226,
   "metadata": {
    "collapsed": false
   },
   "outputs": [
    {
     "data": {
      "text/plain": [
       "array([ 0.96078189,  0.81442263,  1.02535133,  1.33237398,  0.75140053,\n",
       "        0.98870147,  0.90646488,  0.81850486,  0.21304694,  0.18895107])"
      ]
     },
     "execution_count": 226,
     "metadata": {},
     "output_type": "execute_result"
    }
   ],
   "source": [
    "ind"
   ]
  },
  {
   "cell_type": "code",
   "execution_count": 227,
   "metadata": {
    "collapsed": false
   },
   "outputs": [
    {
     "data": {
      "text/plain": [
       "7.9999995789508747"
      ]
     },
     "execution_count": 227,
     "metadata": {},
     "output_type": "execute_result"
    }
   ],
   "source": [
    "np.sum(ind)"
   ]
  },
  {
   "cell_type": "code",
   "execution_count": null,
   "metadata": {
    "collapsed": true
   },
   "outputs": [],
   "source": []
  }
 ],
 "metadata": {
  "kernelspec": {
   "display_name": "Python 3",
   "language": "python",
   "name": "python3"
  },
  "language_info": {
   "codemirror_mode": {
    "name": "ipython",
    "version": 3
   },
   "file_extension": ".py",
   "mimetype": "text/x-python",
   "name": "python",
   "nbconvert_exporter": "python",
   "pygments_lexer": "ipython3",
   "version": "3.5.2"
  }
 },
 "nbformat": 4,
 "nbformat_minor": 0
}
