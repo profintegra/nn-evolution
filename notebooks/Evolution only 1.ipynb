{
 "cells": [
  {
   "cell_type": "code",
   "execution_count": 1,
   "metadata": {
    "collapsed": false
   },
   "outputs": [],
   "source": [
    "from torch.utils.data import DataLoader\n",
    "import numpy as np\n",
    "import torch\n",
    "import sys\n",
    "from torch.autograd import Variable\n",
    "sys.path.append(\"../pytorch/\")\n",
    "sys.path.append(\"../evolution/\")\n",
    "from evolution import WeightMutationEvolution\n",
    "from net import EvolutionMNIST, GenericDataset, load_mnist\n",
    "import random"
   ]
  },
  {
   "cell_type": "code",
   "execution_count": 2,
   "metadata": {
    "collapsed": true
   },
   "outputs": [],
   "source": [
    "train, _ = load_mnist(path=\"/home/marlon/songstmep\", train_only=True, nrows=10000)"
   ]
  },
  {
   "cell_type": "code",
   "execution_count": 3,
   "metadata": {
    "collapsed": true
   },
   "outputs": [],
   "source": [
    "train_loader = DataLoader(train, batch_size=50)"
   ]
  },
  {
   "cell_type": "code",
   "execution_count": 4,
   "metadata": {
    "collapsed": false
   },
   "outputs": [],
   "source": [
    "def fitness(model):\n",
    "    loss_func = torch.nn.CrossEntropyLoss()\n",
    "    fitness_scores = []\n",
    "    for data, target in train_loader:\n",
    "        data = Variable(data, requires_grad=False).float()\n",
    "        target = Variable(target, requires_grad=False)\n",
    "        pred = model(data)\n",
    "        loss = loss_func(pred, torch.max(target, 1)[1])\n",
    "        #fitness = (1 / loss.data[0]**2)\n",
    "        fitness = -loss.data[0]\n",
    "        fitness_scores.append(fitness)\n",
    "    return np.mean(fitness_scores)"
   ]
  },
  {
   "cell_type": "code",
   "execution_count": null,
   "metadata": {
    "collapsed": true
   },
   "outputs": [],
   "source": [
    "net = EvolutionMNIST(784, 10, 50)"
   ]
  },
  {
   "cell_type": "code",
   "execution_count": null,
   "metadata": {
    "collapsed": false
   },
   "outputs": [],
   "source": [
    "evo = WeightMutationEvolution(model=net, pop_size=20, elitism=0.5, generations=500, noise_std=0.0001, fitness_func=fitness)"
   ]
  },
  {
   "cell_type": "code",
   "execution_count": null,
   "metadata": {
    "collapsed": false,
    "scrolled": true
   },
   "outputs": [],
   "source": [
    "evo.evolve()"
   ]
  }
 ],
 "metadata": {
  "kernelspec": {
   "display_name": "Python 3",
   "language": "python",
   "name": "python3"
  },
  "language_info": {
   "codemirror_mode": {
    "name": "ipython",
    "version": 3
   },
   "file_extension": ".py",
   "mimetype": "text/x-python",
   "name": "python",
   "nbconvert_exporter": "python",
   "pygments_lexer": "ipython3",
   "version": "3.5.2"
  }
 },
 "nbformat": 4,
 "nbformat_minor": 0
}
