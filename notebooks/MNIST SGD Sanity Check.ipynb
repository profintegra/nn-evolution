{
 "cells": [
  {
   "cell_type": "code",
   "execution_count": 1,
   "metadata": {
    "collapsed": true
   },
   "outputs": [],
   "source": [
    "from torch.utils.data import DataLoader\n",
    "import numpy as np\n",
    "import torch\n",
    "import sys\n",
    "from torch.autograd import Variable\n",
    "sys.path.append(\"../pytorch/\")\n",
    "sys.path.append(\"../evolution/\")\n",
    "from net import EvolutionMNIST, GenericDataset, load_mnist"
   ]
  },
  {
   "cell_type": "code",
   "execution_count": 2,
   "metadata": {
    "collapsed": true
   },
   "outputs": [],
   "source": [
    "train, _ = load_mnist(path=\"/home/marlon/songstmep\", train_only=True, nrows=10000)"
   ]
  },
  {
   "cell_type": "code",
   "execution_count": 3,
   "metadata": {
    "collapsed": true
   },
   "outputs": [],
   "source": [
    "net = EvolutionMNIST(784, 10, 50)"
   ]
  },
  {
   "cell_type": "code",
   "execution_count": 4,
   "metadata": {
    "collapsed": true
   },
   "outputs": [],
   "source": [
    "train_loader = DataLoader(train, batch_size=50)"
   ]
  },
  {
   "cell_type": "code",
   "execution_count": 5,
   "metadata": {
    "collapsed": true
   },
   "outputs": [],
   "source": [
    "def fitness(model):\n",
    "    loss_func = torch.nn.CrossEntropyLoss()\n",
    "    fitness_scores = []\n",
    "    for data, target in train_loader:\n",
    "        data = Variable(data, requires_grad=False).float()\n",
    "        target = Variable(target, requires_grad=False)\n",
    "        pred = model(data)\n",
    "        loss = loss_func(pred, torch.max(target, 1)[1])\n",
    "        fitness = (1 / loss.data[0]**2)\n",
    "        fitness_scores.append(fitness)\n",
    "    return np.mean(fitness_scores)"
   ]
  },
  {
   "cell_type": "code",
   "execution_count": 8,
   "metadata": {
    "collapsed": false
   },
   "outputs": [
    {
     "name": "stdout",
     "output_type": "stream",
     "text": [
      "Epoch 1/10 | Fitness: 7.016756925003242\n",
      "Epoch 2/10 | Fitness: 13.510881112152783\n",
      "Epoch 3/10 | Fitness: 30.734342956751387\n",
      "Epoch 4/10 | Fitness: 55.96988400326491\n",
      "Epoch 5/10 | Fitness: 68.4294204965977\n",
      "Epoch 6/10 | Fitness: 150.87904407118916\n",
      "Epoch 7/10 | Fitness: 171.11196652375918\n",
      "Epoch 8/10 | Fitness: 326.02492482824624\n",
      "Epoch 9/10 | Fitness: 435.91845791890546\n",
      "Epoch 10/10 | Fitness: 314.61574105509857\n"
     ]
    }
   ],
   "source": [
    "loss_func = torch.nn.CrossEntropyLoss()\n",
    "sgd = torch.optim.SGD(net.parameters(), lr = 0.001, momentum=0.9)\n",
    "for i in range(10):\n",
    "    for data, target in train_loader:\n",
    "        sgd.zero_grad()\n",
    "        data = Variable(data, requires_grad=False).float()\n",
    "        target = Variable(target, requires_grad=False)\n",
    "        pred = net(data)\n",
    "        loss = loss_func(pred, torch.max(target, 1)[1])\n",
    "        loss.backward()\n",
    "        sgd.step()\n",
    "    print(\"Epoch {}/10 | Fitness: {}\".format(i+1, fitness(net)))\n",
    "        "
   ]
  },
  {
   "cell_type": "code",
   "execution_count": null,
   "metadata": {
    "collapsed": true
   },
   "outputs": [],
   "source": []
  }
 ],
 "metadata": {
  "kernelspec": {
   "display_name": "Python 3",
   "language": "python",
   "name": "python3"
  },
  "language_info": {
   "codemirror_mode": {
    "name": "ipython",
    "version": 3
   },
   "file_extension": ".py",
   "mimetype": "text/x-python",
   "name": "python",
   "nbconvert_exporter": "python",
   "pygments_lexer": "ipython3",
   "version": "3.5.2"
  }
 },
 "nbformat": 4,
 "nbformat_minor": 0
}
